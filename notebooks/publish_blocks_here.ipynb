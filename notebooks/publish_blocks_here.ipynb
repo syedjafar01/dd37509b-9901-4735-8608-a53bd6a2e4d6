{
 "cells": [
  {
   "cell_type": "code",
   "execution_count": 1,
   "id": "artistic-juice",
   "metadata": {},
   "outputs": [],
   "source": [
    "from razor.api.core import BlockScope\n",
    "from razor.api import blocks"
   ]
  },
  {
   "cell_type": "code",
   "execution_count": 2,
   "id": "minimal-silence",
   "metadata": {},
   "outputs": [],
   "source": [
    "blocks.init_bundle(bundle='train_blocks', category='t_cat')"
   ]
  },
  {
   "cell_type": "code",
   "execution_count": 3,
   "id": "tired-liability",
   "metadata": {},
   "outputs": [],
   "source": [
    "blocks.publish(bundle='train_blocks', scope=BlockScope.PROJECT)"
   ]
  },
  {
   "cell_type": "code",
   "execution_count": null,
   "id": "particular-conditioning",
   "metadata": {},
   "outputs": [],
   "source": []
  }
 ],
 "metadata": {
  "kernelspec": {
   "display_name": "Python 3",
   "language": "python",
   "name": "python3"
  },
  "language_info": {
   "codemirror_mode": {
    "name": "ipython",
    "version": 3
   },
   "file_extension": ".py",
   "mimetype": "text/x-python",
   "name": "python",
   "nbconvert_exporter": "python",
   "pygments_lexer": "ipython3",
   "version": "3.7.10"
  }
 },
 "nbformat": 4,
 "nbformat_minor": 5
}
